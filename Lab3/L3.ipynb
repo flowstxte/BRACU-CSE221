{
  "nbformat": 4,
  "nbformat_minor": 0,
  "metadata": {
    "colab": {
      "provenance": []
    },
    "kernelspec": {
      "name": "python3",
      "display_name": "Python 3"
    },
    "language_info": {
      "name": "python"
    }
  },
  "cells": [
    {
      "cell_type": "markdown",
      "source": [
        "Task1"
      ],
      "metadata": {
        "id": "1uKrL26tLq6-"
      }
    },
    {
      "cell_type": "code",
      "execution_count": null,
      "metadata": {
        "id": "nmR1vTH4as2x"
      },
      "outputs": [],
      "source": [
        "file_inp=open(\"input1.txt\",\"r\")\n",
        "file_out=open(\"output1.txt\",\"w\")\n",
        "\n",
        "tc=int(file_inp.readline())\n",
        "arr=[int(i) for i in file_inp.readline().split()]\n",
        "\n",
        "def merge(left,right):\n",
        "  arr=[]\n",
        "  i,j=0,0\n",
        "  while i<len(left) and j<len(right):\n",
        "    if left[i]<=right[j]:\n",
        "      arr.append(left[i])\n",
        "      i+=1\n",
        "    else:\n",
        "      arr.append(right[j])\n",
        "      j+=1\n",
        "  arr+=left[i:]\n",
        "  arr+=right[j:]\n",
        "  return arr\n",
        "\n",
        "def mergeSort(arr):\n",
        "  if len(arr)<=1:\n",
        "    return arr\n",
        "  mid=len(arr)//2\n",
        "  left=mergeSort(arr[:mid])\n",
        "  right=mergeSort(arr[mid:])\n",
        "  return merge(left,right)\n",
        "\n",
        "new=mergeSort(arr)\n",
        "for i in new:\n",
        "  file_out.write(f'{i} ')\n",
        "\n",
        "file_inp.close()\n",
        "file_out.close()"
      ]
    },
    {
      "cell_type": "markdown",
      "source": [
        "Task2"
      ],
      "metadata": {
        "id": "8Iwd0_WaMeE3"
      }
    },
    {
      "cell_type": "code",
      "source": [
        "file_inp=open(\"input2.txt\",\"r\")\n",
        "file_out=open(\"output2.txt\",\"w\")\n",
        "\n",
        "tc=int(file_inp.readline())\n",
        "arr=[int(i) for i in file_inp.readline().split()]\n",
        "\n",
        "def maxed(left, right):\n",
        "  if left>=right:\n",
        "    return left\n",
        "  else:\n",
        "    return right\n",
        "\n",
        "def max_find(arr):\n",
        "  if len(arr)==1:\n",
        "    return arr[0]\n",
        "  m=len(arr)//2\n",
        "  left=max_find(arr[:m])\n",
        "  right=max_find(arr[m:])\n",
        "  return maxed(left,right)\n",
        "\n",
        "max=max_find(arr)\n",
        "file_out.write(f'{max}')\n",
        "file_inp.close()\n",
        "file_out.close()"
      ],
      "metadata": {
        "id": "iMrJQmecMfBo"
      },
      "execution_count": null,
      "outputs": []
    },
    {
      "cell_type": "markdown",
      "source": [
        "Task3"
      ],
      "metadata": {
        "id": "lAxbMxIWQLxT"
      }
    },
    {
      "cell_type": "code",
      "source": [
        "file_inp=open(\"input3.txt\",\"r\")\n",
        "file_out=open(\"output3.txt\",\"w\")\n",
        "\n",
        "tc=int(file_inp.readline())\n",
        "arr=[int(i) for i in file_inp.readline().split()]\n",
        "\n",
        "def count_inversions(arr):\n",
        "    if len(arr) <= 1:\n",
        "        return arr, 0\n",
        "    mid = len(arr) // 2\n",
        "    left, left_count = count_inversions(arr[:mid])\n",
        "    right, right_count = count_inversions(arr[mid:])\n",
        "    merged, merged_count = merge_inversions(left, right)\n",
        "    return merged, (left_count + right_count + merged_count)\n",
        "\n",
        "def merge_inversions(left, right):\n",
        "    merged = []\n",
        "    i = j = count = 0\n",
        "    while i < len(left) and j < len(right):\n",
        "        if left[i] <= right[j]:\n",
        "            merged.append(left[i])\n",
        "            i += 1\n",
        "        else:\n",
        "            merged.append(right[j])\n",
        "            count += len(left) - i\n",
        "            j += 1\n",
        "\n",
        "    merged += left[i:]\n",
        "    merged += right[j:]\n",
        "    return merged, count\n",
        "\n",
        "file_out.write(f'{count_inversions(arr)[1]}')\n",
        "file_inp.close()\n",
        "file_out.close()"
      ],
      "metadata": {
        "id": "WlhGgoAiQM5_"
      },
      "execution_count": null,
      "outputs": []
    },
    {
      "cell_type": "markdown",
      "source": [
        "Task4"
      ],
      "metadata": {
        "id": "FeDXAX05n4iG"
      }
    },
    {
      "cell_type": "code",
      "source": [
        "file_inp=open(\"input4.txt\",\"r\")\n",
        "file_out=open(\"output4.txt\",\"w\")\n",
        "\n",
        "tc=int(file_inp.readline())\n",
        "arr=[int(i) for i in file_inp.readline().split()]\n",
        "\n",
        "def find_max(arr,left,right):\n",
        "    if right-left <= 1:\n",
        "        return float('-inf')\n",
        "    mid = (left+right) // 2\n",
        "    max_left = find_max(arr, left, mid)\n",
        "    max_right = find_max(arr, mid, right)\n",
        "\n",
        "    max_i = max(arr[left:mid])\n",
        "    max_j = max(arr[mid:right]) ** 2\n",
        "\n",
        "    max_cross = max_i + max_j\n",
        "    return max(max_left,max_right,max_cross)\n",
        "\n",
        "\n",
        "file_out.write(f'{find_max(arr,0,tc)}')\n",
        "\n",
        "file_inp.close()\n",
        "file_out.close()"
      ],
      "metadata": {
        "id": "VO2x4kQOn5gh"
      },
      "execution_count": null,
      "outputs": []
    },
    {
      "cell_type": "markdown",
      "source": [
        "Task5"
      ],
      "metadata": {
        "id": "D2Ja5L8Ux6qg"
      }
    },
    {
      "cell_type": "code",
      "source": [
        "file_inp=open(\"input5.txt\",\"r\")\n",
        "file_out=open(\"output5.txt\",\"w\")\n",
        "\n",
        "tc=int(file_inp.readline())\n",
        "arr=[int(i) for i in file_inp.readline().split()]\n",
        "\n",
        "def partition(array, low, high):\n",
        "    pivot = array[high]\n",
        "    i = low - 1\n",
        "    for j in range(low, high):\n",
        "        if array[j] <= pivot:\n",
        "            i = i + 1\n",
        "            (array[i], array[j]) = (array[j], array[i])\n",
        "    (array[i + 1], array[high]) = (array[high], array[i + 1])\n",
        "    return i + 1\n",
        "\n",
        "def quickSort(array, low, high):\n",
        "    if low < high:\n",
        "        pi = partition(array, low, high)\n",
        "        quickSort(array, low, pi - 1)\n",
        "        quickSort(array, pi + 1, high)\n",
        "\n",
        "quickSort(arr, 0, tc - 1)\n",
        "for i in arr:\n",
        "  file_out.write(f\"{i} \")\n",
        "\n",
        "file_inp.close()\n",
        "file_out.close()"
      ],
      "metadata": {
        "id": "JB7L1c_4x8IP"
      },
      "execution_count": null,
      "outputs": []
    },
    {
      "cell_type": "markdown",
      "source": [
        "Task6"
      ],
      "metadata": {
        "id": "mY80xioIyRA1"
      }
    },
    {
      "cell_type": "code",
      "source": [
        "file_inp=open(\"input6.txt\",\"r\")\n",
        "file_out=open(\"output6.txt\",\"w\")\n",
        "\n",
        "tc=int(file_inp.readline())\n",
        "arr=[int(i) for i in file_inp.readline().split()]\n",
        "\n",
        "def partition(arr, low, high):\n",
        "    pivot = arr[high]\n",
        "    i = low - 1\n",
        "    for j in range(low, high):\n",
        "        if arr[j] <= pivot:\n",
        "            i += 1\n",
        "            arr[i], arr[j] = arr[j], arr[i]\n",
        "    arr[i + 1], arr[high] = arr[high], arr[i + 1]\n",
        "    return i + 1\n",
        "\n",
        "def quickSelect(arr, low, high, k):\n",
        "    if low <= high:\n",
        "        pi = partition(arr, low, high)\n",
        "        if pi == k:\n",
        "            return arr[pi]\n",
        "        elif pi < k:\n",
        "            return quickSelect(arr, pi + 1, high, k)\n",
        "        else:\n",
        "            return quickSelect(arr, low, pi - 1, k)\n",
        "\n",
        "n = int(file_inp.readline())\n",
        "for _ in range(n):\n",
        "    k = int(file_inp.readline())\n",
        "    file_out.write(f\"{quickSelect(arr, 0, tc - 1, k - 1)}\\n\")\n",
        "\n",
        "file_inp.close()\n",
        "file_out.close()"
      ],
      "metadata": {
        "id": "yg3WQIz9ySmU"
      },
      "execution_count": null,
      "outputs": []
    }
  ]
}