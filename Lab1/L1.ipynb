{
  "nbformat": 4,
  "nbformat_minor": 0,
  "metadata": {
    "colab": {
      "provenance": []
    },
    "kernelspec": {
      "name": "python3",
      "display_name": "Python 3"
    },
    "language_info": {
      "name": "python"
    }
  },
  "cells": [
    {
      "cell_type": "markdown",
      "source": [
        "Task1(a)"
      ],
      "metadata": {
        "id": "0SJM4-zhbAzB"
      }
    },
    {
      "cell_type": "code",
      "execution_count": null,
      "metadata": {
        "id": "S7fKAm3C_qOd"
      },
      "outputs": [],
      "source": [
        "file_inp=open(\"input1a.txt\",\"r\")\n",
        "file_out=open(\"output1a.txt\",\"w\")\n",
        "tc=int(file_inp.readline())\n",
        "\n",
        "while tc>0:\n",
        "  num=int(file_inp.readline())\n",
        "  if num%2==0:\n",
        "    file_out.write(f'{num} is an Even number.\\n')\n",
        "  else:\n",
        "    file_out.write(f'{num} is an Odd number.\\n')\n",
        "  tc-=1\n",
        "\n",
        "file_inp.close()\n",
        "file_out.close()"
      ]
    },
    {
      "cell_type": "markdown",
      "source": [
        "Task1(b)"
      ],
      "metadata": {
        "id": "ooe1SyC-bCr6"
      }
    },
    {
      "cell_type": "code",
      "source": [
        "file_inp=open(\"input1b.txt\",\"r\")\n",
        "file_out=open(\"output1b.txt\",\"w\")\n",
        "tc=int(file_inp.readline())\n",
        "\n",
        "while tc>0:\n",
        "  s=file_inp.readline()\n",
        "  s=s[10::]\n",
        "  e=s.split(' ')\n",
        "  if '+' in e:\n",
        "    r=int(e[0])+int(e[2])\n",
        "    file_out.write(f'The result of {int(e[0])} + {int(e[2])} is {r}\\n')\n",
        "  if '-' in e:\n",
        "    r=int(e[0])-int(e[2])\n",
        "    file_out.write(f'The result of {int(e[0])} - {int(e[2])} is {r}\\n')\n",
        "  if '*' in e:\n",
        "    r=int(e[0])*int(e[2])\n",
        "    file_out.write(f'The result of {int(e[0])} * {int(e[2])} is {r}\\n')\n",
        "  if '/' in e:\n",
        "    r=int(e[0])/int(e[2])\n",
        "    file_out.write(f'The result of {int(e[0])} / {int(e[2])} is {r}\\n')\n",
        "\n",
        "  tc-=1"
      ],
      "metadata": {
        "id": "vRgRxEk5GHUN"
      },
      "execution_count": null,
      "outputs": []
    },
    {
      "cell_type": "markdown",
      "source": [
        "Task2"
      ],
      "metadata": {
        "id": "RJ5uX8a3bJXb"
      }
    },
    {
      "cell_type": "code",
      "source": [
        "file_inp=open(\"input2.txt\",\"r\")\n",
        "file_out=open(\"output2.txt\",\"w\")\n",
        "tc=int(file_inp.readline())\n",
        "s=file_inp.readline()\n",
        "a=[int(i) for i in s.split()]\n",
        "def bubbleSort(arr):\n",
        "  for i in range(len(arr)-1):\n",
        "    swapped = False\n",
        "    for j in range(len(arr)-i-1):\n",
        "      if arr[j]>arr[j+1]:\n",
        "        arr[j],arr[j+1]=arr[j+1],arr[j]\n",
        "        swapped = True\n",
        "    if swapped == False:\n",
        "      break\n",
        "\n",
        "bubbleSort(a)\n",
        "for i in a:\n",
        "  file_out.write(f'{i} ')\n",
        "file_inp.close()\n",
        "file_out.close()"
      ],
      "metadata": {
        "id": "YvAUzdb1CIlT"
      },
      "execution_count": null,
      "outputs": []
    },
    {
      "cell_type": "markdown",
      "source": [
        "Task3"
      ],
      "metadata": {
        "id": "VHQtohNRbKoj"
      }
    },
    {
      "cell_type": "code",
      "source": [
        "file_inp=open(\"input3.txt\",\"r\")\n",
        "file_out=open(\"output3.txt\",\"w\")\n",
        "tc=int(file_inp.readline())\n",
        "id=[int(i) for i in file_inp.readline().split()]\n",
        "marks=[int(i) for i in file_inp.readline().split()]\n",
        "\n",
        "def selectionSort(t):\n",
        "  for i in range(t):\n",
        "    max=i\n",
        "    for j in range(i+1,t):\n",
        "      if marks[j]>marks[max]:\n",
        "        max=j\n",
        "      elif marks[j]==marks[max]:\n",
        "        if id[max]>id[j]:\n",
        "          max=j\n",
        "    marks[i],marks[max]=marks[max],marks[i]\n",
        "    id[i],id[max]=id[max],id[i]\n",
        "\n",
        "selectionSort(tc)\n",
        "for i in range(tc):\n",
        "  file_out.write(f'ID: {id[i]} Mark: {marks[i]}\\n')\n",
        "\n",
        "file_inp.close()\n",
        "file_out.close()"
      ],
      "metadata": {
        "id": "lFeP26ZBTdS5"
      },
      "execution_count": null,
      "outputs": []
    },
    {
      "cell_type": "markdown",
      "source": [
        "Task4"
      ],
      "metadata": {
        "id": "9m5YjRgobMMW"
      }
    },
    {
      "cell_type": "code",
      "source": [
        "file_inp=open(\"input4.txt\",\"r\")\n",
        "file_out=open(\"output4.txt\",\"w\")\n",
        "tc=int(file_inp.readline())\n",
        "names=[]\n",
        "places=[]\n",
        "times=[]\n",
        "\n",
        "for i in range(tc):\n",
        "  x=file_inp.readline().split(' ')\n",
        "  names.append(x[0])\n",
        "  places.append(x[4])\n",
        "  times.append(x[6])\n",
        "\n",
        "for i in range(tc):\n",
        "  for j in range(i+1,tc):\n",
        "    if names[j]<names[i]:\n",
        "      names[j],names[i]=names[i],names[j]\n",
        "      places[j],places[i]=places[i],places[j]\n",
        "      times[j],times[i]=times[i],times[j]\n",
        "    elif names[j]==names[i]:\n",
        "      if times[j]>times[i]:\n",
        "        names[j],names[i]=names[i],names[j]\n",
        "        places[j],places[i]=places[i],places[j]\n",
        "        times[j],times[i]=times[i],times[j]\n",
        "\n",
        "for i in range(tc):\n",
        "  r=f'{names[i]} will departure for {places[i]} at {times[i]}\\n'\n",
        "  file_out.write(r)\n",
        "file_inp.close()\n",
        "file_out.close()"
      ],
      "metadata": {
        "id": "_y7kzLtxTlKU"
      },
      "execution_count": null,
      "outputs": []
    }
  ]
}