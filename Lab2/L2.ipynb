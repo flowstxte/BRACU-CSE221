{
  "nbformat": 4,
  "nbformat_minor": 0,
  "metadata": {
    "colab": {
      "provenance": []
    },
    "kernelspec": {
      "name": "python3",
      "display_name": "Python 3"
    },
    "language_info": {
      "name": "python"
    }
  },
  "cells": [
    {
      "cell_type": "markdown",
      "source": [
        "Task1(a)"
      ],
      "metadata": {
        "id": "y6DwVIFjI_cZ"
      }
    },
    {
      "cell_type": "code",
      "execution_count": null,
      "metadata": {
        "id": "XIgr42Oi1lYS"
      },
      "outputs": [],
      "source": [
        "file_inp=open(\"input1a.txt\",\"r\")\n",
        "file_out=open(\"output1a.txt\",\"w\")\n",
        "\n",
        "s=file_inp.readline().split()\n",
        "tc=int(s[0])\n",
        "sum=int(s[1])\n",
        "l=[int(i) for i in file_inp.readline().split()]\n",
        "\n",
        "x,y=0,0\n",
        "for i in range(tc):\n",
        "  for j in range(i+1,tc):\n",
        "    if l[i]+l[j]==sum:\n",
        "      x,y=i+1,j+1\n",
        "if x==0 and y==0:\n",
        "  file_out.write(f'IMPOSSIBLE')\n",
        "else:\n",
        "  file_out.write(f'{x} {y}')\n",
        "\n",
        "file_inp.close()\n",
        "file_out.close()"
      ]
    },
    {
      "cell_type": "markdown",
      "source": [
        "Task1(b)"
      ],
      "metadata": {
        "id": "kyNTmrKhJEXH"
      }
    },
    {
      "cell_type": "code",
      "source": [
        "file_inp=open(\"input1b.txt\",\"r\")\n",
        "file_out=open(\"output1b.txt\",\"w\")\n",
        "\n",
        "s=file_inp.readline().split()\n",
        "tc=int(s[0])\n",
        "sum=int(s[1])\n",
        "l=[int(i) for i in file_inp.readline().split()]\n",
        "\n",
        "x=0\n",
        "y=tc-1\n",
        "while x!=y:\n",
        "  if l[x]+l[y]>sum:\n",
        "    y-=1\n",
        "  elif l[x]+l[y]<sum:\n",
        "    x+=1\n",
        "  else:\n",
        "    file_out.write(f'{x+1} {y+1}')\n",
        "    break\n",
        "else:\n",
        "  file_out.write(f'IMPOSSIBLE')\n",
        "file_inp.close()\n",
        "file_out.close()"
      ],
      "metadata": {
        "id": "xtC42wG-JGYz"
      },
      "execution_count": null,
      "outputs": []
    },
    {
      "cell_type": "markdown",
      "source": [
        "Task2(a)"
      ],
      "metadata": {
        "id": "WxRY5DYJJIig"
      }
    },
    {
      "cell_type": "code",
      "source": [
        "file_inp=open(\"input2a.txt\",\"r\")\n",
        "file_out=open(\"output2a.txt\",\"w\")\n",
        "\n",
        "n=int(file_inp.readline())\n",
        "nl=[int(i) for i in file_inp.readline().split()]\n",
        "m=int(file_inp.readline())\n",
        "ml=[int(i) for i in file_inp.readline().split()]\n",
        "\n",
        "l=nl+ml\n",
        "l.sort()\n",
        "for i in l:\n",
        "  file_out.write(f'{i} ')\n",
        "file_inp.close()\n",
        "file_out.close()"
      ],
      "metadata": {
        "id": "yZPjWYS1JLHn"
      },
      "execution_count": null,
      "outputs": []
    },
    {
      "cell_type": "markdown",
      "source": [
        "Task2(b)"
      ],
      "metadata": {
        "id": "OOhhPabGJLwT"
      }
    },
    {
      "cell_type": "code",
      "source": [
        "file_inp=open(\"input2b.txt\",\"r\")\n",
        "file_out=open(\"output2b.txt\",\"w\")\n",
        "\n",
        "n=int(file_inp.readline())\n",
        "nl=[int(i) for i in file_inp.readline().split()]\n",
        "m=int(file_inp.readline())\n",
        "ml=[int(i) for i in file_inp.readline().split()]\n",
        "\n",
        "x,y=0,0\n",
        "l=[]\n",
        "while x<n and y<m:\n",
        "  if nl[x]<ml[y]:\n",
        "    l.append(nl[x])\n",
        "    x+=1\n",
        "  else:\n",
        "    l.append(ml[y])\n",
        "    y+=1\n",
        "while x<n:\n",
        "  l.append(nl[x])\n",
        "  x+=1\n",
        "while y<m:\n",
        "  l.append(ml[y])\n",
        "  y+=1\n",
        "for i in l:\n",
        "  file_out.write(f'{i} ')\n",
        "\n",
        "file_inp.close()\n",
        "file_out.close()"
      ],
      "metadata": {
        "id": "r-K5Q1pKJN26"
      },
      "execution_count": null,
      "outputs": []
    },
    {
      "cell_type": "markdown",
      "source": [
        "Task3"
      ],
      "metadata": {
        "id": "P6i8wOvUJQHj"
      }
    },
    {
      "cell_type": "code",
      "source": [
        "file_inp=open(\"input3.txt\",\"r\")\n",
        "file_out=open(\"output3.txt\",\"w\")\n",
        "\n",
        "tc=int(file_inp.readline())\n",
        "iv=[]\n",
        "for _ in range(tc):\n",
        "  i,j=file_inp.readline().split()\n",
        "  iv.append([int(i),int(j)])\n",
        "def merge_sort(i):\n",
        "  if len(i)<=1:\n",
        "    return i\n",
        "  m=len(i)//2\n",
        "  l=i[:m]\n",
        "  r=i[m:]\n",
        "  sl=merge_sort(l)\n",
        "  sr=merge_sort(r)\n",
        "  return merge_i(sl,sr)\n",
        "\n",
        "def merge_i(l,r):\n",
        "  m=[]\n",
        "  while (l and r):\n",
        "    if l[0][1]<r[0][1]:\n",
        "      m.append(l[0])\n",
        "      l.pop(0)\n",
        "    else:\n",
        "      m.append(r[0])\n",
        "      r.pop(0)\n",
        "  if l:\n",
        "    m+=l\n",
        "  if r:\n",
        "    m+=r\n",
        "  return m\n",
        "\n",
        "sorted_iv=merge_sort(iv)\n",
        "x=[sorted_iv[0]]\n",
        "p=sorted_iv[0]\n",
        "c=1\n",
        "for i in sorted_iv[1:]:\n",
        "  if i[0]>=p[1]:\n",
        "    x.append(i)\n",
        "    p=i\n",
        "    c+=1\n",
        "file_out.write(f'{c}\\n')\n",
        "for i in x:\n",
        "  file_out.write(f'{i[0]} {i[1]}\\n')\n",
        "\n",
        "file_inp.close()\n",
        "file_out.close()"
      ],
      "metadata": {
        "id": "cfbc0FxOJP0y"
      },
      "execution_count": null,
      "outputs": []
    },
    {
      "cell_type": "markdown",
      "source": [
        "Task4"
      ],
      "metadata": {
        "id": "S-6eCM65JSjP"
      }
    },
    {
      "cell_type": "code",
      "source": [
        "file_inp=open(\"input4.txt\",\"r\")\n",
        "file_out=open(\"output4.txt\",\"w\")\n",
        "\n",
        "s=file_inp.readline().split()\n",
        "tc,men=int(s[0]),int(s[1])\n",
        "\n",
        "iv=[]\n",
        "for _ in range(tc):\n",
        "  i,j=file_inp.readline().split()\n",
        "  iv.append([int(i),int(j)])\n",
        "def merge_sort(i):\n",
        "  if len(i)<=1:\n",
        "    return i\n",
        "  m=len(i)//2\n",
        "  l=i[:m]\n",
        "  r=i[m:]\n",
        "  sl=merge_sort(l)\n",
        "  sr=merge_sort(r)\n",
        "  return merge_i(sl,sr)\n",
        "\n",
        "def merge_i(l,r):\n",
        "  m=[]\n",
        "  while (l and r):\n",
        "    if l[0][1]<r[0][1]:\n",
        "      m.append(l[0])\n",
        "      l.pop(0)\n",
        "    else:\n",
        "      m.append(r[0])\n",
        "      r.pop(0)\n",
        "  if l:\n",
        "    m+=l\n",
        "  if r:\n",
        "    m+=r\n",
        "  return m\n",
        "\n",
        "s_iv=merge_sort(iv)\n",
        "a=[s_iv[0]]\n",
        "c=1\n",
        "for i in s_iv[1:]:\n",
        "  r=False\n",
        "  for j in range(len(a)):\n",
        "    if i[0]>=a[j][1]:\n",
        "      a[j]=i\n",
        "      c+=1\n",
        "      r=True\n",
        "      break\n",
        "  if len(a)<men and not r:\n",
        "    a.append(i)\n",
        "    c+=1\n",
        "file_out.write(f'{c}')\n",
        "file_inp.close()\n",
        "file_out.close()"
      ],
      "metadata": {
        "id": "nwLp2TS2JUsY"
      },
      "execution_count": null,
      "outputs": []
    }
  ]
}